{
  "nbformat": 4,
  "nbformat_minor": 0,
  "metadata": {
    "colab": {
      "name": "NeuralNetwork(AM-623).ipynb",
      "provenance": [],
      "collapsed_sections": [],
      "authorship_tag": "ABX9TyP1DN/5mN/wm+HLpaoJz/0a",
      "include_colab_link": true
    },
    "kernelspec": {
      "name": "python3",
      "display_name": "Python 3"
    }
  },
  "cells": [
    {
      "cell_type": "markdown",
      "metadata": {
        "id": "view-in-github",
        "colab_type": "text"
      },
      "source": [
        "<a href=\"https://colab.research.google.com/github/absolution747/NeuralNetwork-from-scratch/blob/master/NeuralNetwork(AM_623).ipynb\" target=\"_parent\"><img src=\"https://colab.research.google.com/assets/colab-badge.svg\" alt=\"Open In Colab\"/></a>"
      ]
    },
    {
      "cell_type": "markdown",
      "metadata": {
        "id": "CyO94evpddDv",
        "colab_type": "text"
      },
      "source": [
        "\n",
        "\n",
        "*  **Name**: Karan Shetty\n",
        "*  **Roll No**.: 19-14-05\n",
        "*  **Course**: Advanced Modeling Technique/ Machine Learning"
      ]
    },
    {
      "cell_type": "code",
      "metadata": {
        "id": "LFVNrAqrTcXo",
        "colab_type": "code",
        "outputId": "e8cfeffe-1705-484e-c4de-d7255f1b634a",
        "colab": {
          "base_uri": "https://localhost:8080/",
          "height": 487
        }
      },
      "source": [
        "import numpy as np\n",
        "import matplotlib.pyplot as plt\n",
        "import pandas as pd\n",
        "\n",
        "Car_data = pd.read_csv(\"http://archive.ics.uci.edu/ml/machine-learning-databases/car/car.data\",sep =\",\",  # importing The Datat Set\n",
        "                       names =['buying','maint','doors','persons','lug_boot','safety','Evaluation'])\n",
        "\n",
        "mapping1 = {'vhigh': 3, 'high': 2, 'med': 1, 'low':0}                           # buying: 3 instead of vhigh, 2 instead of high, 1 instead of med, 0 instead of low.\n",
        "mapping2 = { '2': 0, '3': 1, '4': 2, '5more': 3}                                 # doors: 0 instead of 2, 1, instead of 3, 2 instead of 4, 3 instead of 5more.\n",
        "mapping3 = { '2': 0, '4': 1, 'more': 2}                                          # persons: 0 instead of 2, 1 instead of 4, 2 instead of more.\n",
        "mapping4 = { 'small': 0, 'med': 1, 'big': 2}                                     # lug_boot: 0 instead of small, 1 instead of med, 2 instead of big.\n",
        "mapping5 = { 'low': 0, 'med': 1, 'high': 2}                                      # safety: 0 instead of low, 1 instead of med, 2 instead of high.\n",
        "mapping6 = { 'unacc': 0, 'acc': 1, 'good': 2, 'vgood': 3}\n",
        "\n",
        "\n",
        "Car_data1 = Car_data.replace({'buying': mapping1,  'maint': mapping1, \n",
        "                              'doors': mapping2, 'persons': mapping3, \n",
        "                              'lug_boot': mapping4, 'safety': mapping5, \n",
        "                              'Evaluation':mapping6})\n",
        "\n",
        "Car_data1 = Car_data1.iloc[np.random.permutation(len(Car_data1))]               # Shuffling the Data set\n",
        "  \n",
        "Data_in1 = Car_data1.iloc[:,:6]                                                 # Seperating the input parameter from the target output parameter\n",
        "Target1 = Car_data1.iloc[:,6]\n",
        "\n",
        "print(Car_data)\n",
        "print(Car_data1)"
      ],
      "execution_count": 0,
      "outputs": [
        {
          "output_type": "stream",
          "text": [
            "     buying  maint  doors persons lug_boot safety Evaluation\n",
            "0     vhigh  vhigh      2       2    small    low      unacc\n",
            "1     vhigh  vhigh      2       2    small    med      unacc\n",
            "2     vhigh  vhigh      2       2    small   high      unacc\n",
            "3     vhigh  vhigh      2       2      med    low      unacc\n",
            "4     vhigh  vhigh      2       2      med    med      unacc\n",
            "...     ...    ...    ...     ...      ...    ...        ...\n",
            "1723    low    low  5more    more      med    med       good\n",
            "1724    low    low  5more    more      med   high      vgood\n",
            "1725    low    low  5more    more      big    low      unacc\n",
            "1726    low    low  5more    more      big    med       good\n",
            "1727    low    low  5more    more      big   high      vgood\n",
            "\n",
            "[1728 rows x 7 columns]\n",
            "      buying  maint  doors  persons  lug_boot  safety  Evaluation\n",
            "346        3      0      0        2         1       1           0\n",
            "40         3      3      1        1         1       1           0\n",
            "1317       0      3      0        2         1       0           0\n",
            "503        2      3      2        1         2       2           0\n",
            "1687       0      0      2        1         1       1           2\n",
            "...      ...    ...    ...      ...       ...     ...         ...\n",
            "996        1      2      0        2         2       0           0\n",
            "637        2      2      3        1         2       1           1\n",
            "829        2      0      2        2         0       1           0\n",
            "541        2      2      0        0         0       1           0\n",
            "238        3      1      0        2         1       1           0\n",
            "\n",
            "[1728 rows x 7 columns]\n"
          ],
          "name": "stdout"
        }
      ]
    },
    {
      "cell_type": "markdown",
      "metadata": {
        "colab_type": "text",
        "id": "VadvozcdCg_W"
      },
      "source": [
        ""
      ]
    },
    {
      "cell_type": "code",
      "metadata": {
        "id": "U8E0_TNc3FMc",
        "colab_type": "code",
        "outputId": "6656500a-2652-4ef7-a8d9-2cdc32234b6d",
        "colab": {
          "base_uri": "https://localhost:8080/",
          "height": 470
        }
      },
      "source": [
        "print(Data_in1,'\\n')\n",
        "\n",
        "print(Target1)"
      ],
      "execution_count": 0,
      "outputs": [
        {
          "output_type": "stream",
          "text": [
            "      buying  maint  doors  persons  lug_boot  safety\n",
            "346        3      0      0        2         1       1\n",
            "40         3      3      1        1         1       1\n",
            "1317       0      3      0        2         1       0\n",
            "503        2      3      2        1         2       2\n",
            "1687       0      0      2        1         1       1\n",
            "...      ...    ...    ...      ...       ...     ...\n",
            "996        1      2      0        2         2       0\n",
            "637        2      2      3        1         2       1\n",
            "829        2      0      2        2         0       1\n",
            "541        2      2      0        0         0       1\n",
            "238        3      1      0        2         1       1\n",
            "\n",
            "[1728 rows x 6 columns] \n",
            "\n",
            "346     0\n",
            "40      0\n",
            "1317    0\n",
            "503     0\n",
            "1687    2\n",
            "       ..\n",
            "996     0\n",
            "637     1\n",
            "829     0\n",
            "541     0\n",
            "238     0\n",
            "Name: Evaluation, Length: 1728, dtype: int64\n"
          ],
          "name": "stdout"
        }
      ]
    },
    {
      "cell_type": "code",
      "metadata": {
        "id": "GK12HMa7-ew4",
        "colab_type": "code",
        "outputId": "369a5f6f-e163-4962-f1b0-4dd64ffef921",
        "colab": {
          "base_uri": "https://localhost:8080/",
          "height": 151
        }
      },
      "source": [
        "Data_in2 = Data_in1.to_numpy()      \n",
        "Target2 =  Target1.to_numpy()   \n",
        "\n",
        "print(Target2)\n",
        "print(Data_in2)\n",
        "                                                     \n",
        "a = int(len(Data_in1)*0.8)                                                       # Splitting the data set to Trainind Data and Test Data at a ratio od 80:20\n",
        "\n",
        "Train_data = Data_in2[:a]\n",
        "Train_op = Target2[:a]\n",
        "\n",
        "Test_data =  Data_in2[a:]\n",
        "Test_op =  Target2[a:]"
      ],
      "execution_count": 0,
      "outputs": [
        {
          "output_type": "stream",
          "text": [
            "[0 0 0 ... 0 0 0]\n",
            "[[3 0 0 2 1 1]\n",
            " [3 3 1 1 1 1]\n",
            " [0 3 0 2 1 0]\n",
            " ...\n",
            " [2 0 2 2 0 1]\n",
            " [2 2 0 0 0 1]\n",
            " [3 1 0 2 1 1]]\n"
          ],
          "name": "stdout"
        }
      ]
    },
    {
      "cell_type": "code",
      "metadata": {
        "id": "mMjiXLZlZ2V-",
        "colab_type": "code",
        "colab": {}
      },
      "source": [
        "# input data\n",
        "# create NeuralNetwork class\n",
        "class NeuralNetwork:\n",
        "\n",
        "    lr = 0.01\n",
        "\n",
        "    # intialize variables in class\n",
        "    def __init__(self, inputs, hidden_layer, outputs):\n",
        "        self.inputs  = inputs + 1\n",
        "        self.outputs = outputs\n",
        "        self.hidden_layer = hidden_layer \n",
        "        self.Wij = np.random.randn(self.hidden_layer,self.inputs)\n",
        "        self.Wjk = np.random.randn(self.outputs,self.hidden_layer + 1)\n",
        "        self.error = []\n",
        "        self.error_history = []\n",
        "        self.epoch_list = []\n",
        "\n",
        "    #activation function ==> S(x) = 1/1+e^(-x)\\\n",
        "    def sigmoid(self, x, deriv=False):\n",
        "        if deriv == True:\n",
        "            return x * (1 - x)\n",
        "        return 1 / (1 + np.exp(-x))\n",
        "\n",
        "    # data will flow through the neural network.\n",
        "    def feed_forward(self,Data):\n",
        "        Data = Data.reshape((len(Data),1))\n",
        "        self.hidden = np.concatenate((self.sigmoid(self.Wij@Data),np.array([[1]])))\n",
        "        self.Y = 3*self.sigmoid(self.Wjk@self.hidden)\n",
        "\n",
        "    # going backwards through the network to update weights\n",
        "    def backpropagation(self,y,x):\n",
        "        x = x.reshape((len(x),1))\n",
        "        self.error.append(y - self.Y)\n",
        "        delta_k = (y - self.Y)*3* self.sigmoid(self.Y/3, deriv=True)\n",
        "        delta_j = (self.Wjk.T@delta_k)*(self.sigmoid(self.hidden, deriv=True))\n",
        "        self.Wjk += NeuralNetwork.lr*(delta_k@self.hidden.T)\n",
        "        self.Wij += NeuralNetwork.lr*(delta_j[:self.hidden_layer]@x.T)\n",
        "\n",
        "    # train the neural net for epochs iterations\n",
        "    def train(self,data_in,Tar_op, epochs=250):\n",
        "        data_in = np.concatenate((data_in, np.ones((len(data_in),1))), axis = 1)\n",
        "        for epoch in range(epochs):\n",
        "            for i in range(len(data_in)):\n",
        "                # flow forward and produce an output\n",
        "                self.feed_forward(data_in[i])\n",
        "                # go back though the network to make corrections based on the output\n",
        "                self.backpropagation(Tar_op[i],data_in[i])\n",
        "                # keep track of the error history over each epoch\n",
        "            self.error_history.append(np.average(np.abs(self.error)))\n",
        "\n",
        "            self.epoch_list.append(epoch)\n",
        "\n",
        "    \n",
        "    def Thresholding(self):\n",
        "        if self.Y <= 0.5:\n",
        "          self.Y = 0\n",
        "        elif self.Y <= 1.5:\n",
        "          self.Y = 1\n",
        "        elif self.Y <= 2.5:\n",
        "          self.Y = 2\n",
        "        else:\n",
        "         self.Y = 3\n",
        "        \n",
        "\n",
        "    def test(self,test_data,Targ_op):\n",
        "        \n",
        "        total_data = len(test_data)\n",
        "        test_data = np.concatenate((test_data, np.ones((total_data,1))), axis = 1)\n",
        "        correct_data = 0\n",
        "        \n",
        "        for i in range(total_data):\n",
        "            self.feed_forward(test_data[i])\n",
        "            self.Thresholding()\n",
        "            if self.Y == Targ_op[i]:\n",
        "              correct_data += 1\n",
        "\n",
        "        Accuracy = correct_data/total_data\n",
        "\n",
        "        return Accuracy"
      ],
      "execution_count": 0,
      "outputs": []
    },
    {
      "cell_type": "code",
      "metadata": {
        "id": "0hnlVym9cqmB",
        "colab_type": "code",
        "outputId": "de5871da-d4e6-4499-a57b-c21cc5e512a8",
        "colab": {
          "base_uri": "https://localhost:8080/",
          "height": 532
        }
      },
      "source": [
        "NN = NeuralNetwork(6,12,1)\n",
        "NN.train(Train_data,Train_op)\n",
        "\n",
        "plt.figure(figsize=(30,10))\n",
        "plt.plot(NN.epoch_list, NN.error_history)\n",
        "plt.xlabel('Epoch')\n",
        "plt.ylabel('Error')\n",
        "plt.show()\n",
        "print(NN.error_history[-1],NN.Y)\n",
        "\n",
        "Accu = NN.test(Test_data,Test_op)\n",
        "print('Accuracy --->',Accu)"
      ],
      "execution_count": 0,
      "outputs": [
        {
          "output_type": "display_data",
          "data": {
            "image/png": "[encoded data removed]",
            "text/plain": [
              "<Figure size 2160x720 with 1 Axes>"
            ]
          },
          "metadata": {
            "tags": [],
            "needs_background": "light"
          }
        },
        {
          "output_type": "stream",
          "text": [
            "0.1880303482079956 [[0.04047169]]\n",
            "Accuracy ---> 0.8815028901734104\n"
          ],
          "name": "stdout"
        }
      ]
    }
  ]
}